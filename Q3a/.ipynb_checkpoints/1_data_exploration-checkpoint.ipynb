{
 "cells": [
  {
   "cell_type": "markdown",
   "metadata": {},
   "source": [
    "# Data exploration"
   ]
  },
  {
   "cell_type": "code",
   "execution_count": 117,
   "metadata": {},
   "outputs": [],
   "source": [
    "import matplotlib.pyplot as plt\n",
    "import matplotlib\n",
    "%matplotlib inline\n",
    "import re, sys, os, math, jieba\n",
    "import pandas as pd\n",
    "import numpy as np\n",
    "from sklearn import feature_extraction\n",
    "from sklearn.preprocessing import LabelEncoder  \n",
    "from sklearn.feature_extraction.text import TfidfVectorizer, CountVectorizer\n",
    "from sklearn.model_selection import train_test_split\n",
    "from sklearn.model_selection import KFold\n",
    "import xgboost as xgb"
   ]
  },
  {
   "cell_type": "code",
   "execution_count": 118,
   "metadata": {},
   "outputs": [
    {
     "data": {
      "text/html": [
       "<div>\n",
       "<style scoped>\n",
       "    .dataframe tbody tr th:only-of-type {\n",
       "        vertical-align: middle;\n",
       "    }\n",
       "\n",
       "    .dataframe tbody tr th {\n",
       "        vertical-align: top;\n",
       "    }\n",
       "\n",
       "    .dataframe thead th {\n",
       "        text-align: right;\n",
       "    }\n",
       "</style>\n",
       "<table border=\"1\" class=\"dataframe\">\n",
       "  <thead>\n",
       "    <tr style=\"text-align: right;\">\n",
       "      <th></th>\n",
       "      <th>tags</th>\n",
       "      <th>text</th>\n",
       "      <th>tags_en</th>\n",
       "    </tr>\n",
       "  </thead>\n",
       "  <tbody>\n",
       "    <tr>\n",
       "      <th>count</th>\n",
       "      <td>3894</td>\n",
       "      <td>3894</td>\n",
       "      <td>3894</td>\n",
       "    </tr>\n",
       "    <tr>\n",
       "      <th>unique</th>\n",
       "      <td>3</td>\n",
       "      <td>3894</td>\n",
       "      <td>3</td>\n",
       "    </tr>\n",
       "    <tr>\n",
       "      <th>top</th>\n",
       "      <td>足球</td>\n",
       "      <td>【歐國盃】今日3場焦點：沙加兄弟同場異夢　英俄球迷先惡鬥 今晚3場直播\\r\\r\\nA組｜阿爾...</td>\n",
       "      <td>Football</td>\n",
       "    </tr>\n",
       "    <tr>\n",
       "      <th>freq</th>\n",
       "      <td>2123</td>\n",
       "      <td>1</td>\n",
       "      <td>2123</td>\n",
       "    </tr>\n",
       "  </tbody>\n",
       "</table>\n",
       "</div>"
      ],
      "text/plain": [
       "        tags                                               text   tags_en\n",
       "count   3894                                               3894      3894\n",
       "unique     3                                               3894         3\n",
       "top       足球  【歐國盃】今日3場焦點：沙加兄弟同場異夢　英俄球迷先惡鬥 今晚3場直播\\r\\r\\nA組｜阿爾...  Football\n",
       "freq    2123                                                  1      2123"
      ]
     },
     "execution_count": 118,
     "metadata": {},
     "output_type": "execute_result"
    }
   ],
   "source": [
    "data_train = pd.read_csv('data/offsite-tagging-training-set.csv', index_col='id')\n",
    "data_test = pd.read_csv('data/offsite-tagging-test-set.csv', index_col='id')\n",
    "#print(data_train.isnull().sum())\n",
    "#print(data_test.isnull().sum())\n",
    "data_train.dropna(how=\"all\",inplace=True)\n",
    "data_test.dropna(how=\"all\",inplace=True)\n",
    "data_train['tags_en'] = data_train.tags\n",
    "data_train['tags_en'][data_train.tags == '足球'] = 'Football'\n",
    "data_train['tags_en'][data_train.tags == '梁振英'] = '689'\n",
    "data_train['tags_en'][data_train.tags == '美國大選'] = 'USA election'\n",
    "data_train.describe()"
   ]
  },
  {
   "cell_type": "code",
   "execution_count": 119,
   "metadata": {},
   "outputs": [
    {
     "data": {
      "text/html": [
       "<div>\n",
       "<style scoped>\n",
       "    .dataframe tbody tr th:only-of-type {\n",
       "        vertical-align: middle;\n",
       "    }\n",
       "\n",
       "    .dataframe tbody tr th {\n",
       "        vertical-align: top;\n",
       "    }\n",
       "\n",
       "    .dataframe thead th {\n",
       "        text-align: right;\n",
       "    }\n",
       "</style>\n",
       "<table border=\"1\" class=\"dataframe\">\n",
       "  <thead>\n",
       "    <tr style=\"text-align: right;\">\n",
       "      <th></th>\n",
       "      <th>text</th>\n",
       "    </tr>\n",
       "  </thead>\n",
       "  <tbody>\n",
       "    <tr>\n",
       "      <th>count</th>\n",
       "      <td>974</td>\n",
       "    </tr>\n",
       "    <tr>\n",
       "      <th>unique</th>\n",
       "      <td>974</td>\n",
       "    </tr>\n",
       "    <tr>\n",
       "      <th>top</th>\n",
       "      <td>特朗普的時尚文化意味　領呔、帽子和襟章 美國總統大選舉行在即，今屆選舉兩個候選人很可能是有史...</td>\n",
       "    </tr>\n",
       "    <tr>\n",
       "      <th>freq</th>\n",
       "      <td>1</td>\n",
       "    </tr>\n",
       "  </tbody>\n",
       "</table>\n",
       "</div>"
      ],
      "text/plain": [
       "                                                     text\n",
       "count                                                 974\n",
       "unique                                                974\n",
       "top     特朗普的時尚文化意味　領呔、帽子和襟章 美國總統大選舉行在即，今屆選舉兩個候選人很可能是有史...\n",
       "freq                                                    1"
      ]
     },
     "execution_count": 119,
     "metadata": {},
     "output_type": "execute_result"
    }
   ],
   "source": [
    "data_test.describe()"
   ]
  },
  {
   "cell_type": "code",
   "execution_count": 120,
   "metadata": {},
   "outputs": [
    {
     "data": {
      "text/html": [
       "<div>\n",
       "<style scoped>\n",
       "    .dataframe tbody tr th:only-of-type {\n",
       "        vertical-align: middle;\n",
       "    }\n",
       "\n",
       "    .dataframe tbody tr th {\n",
       "        vertical-align: top;\n",
       "    }\n",
       "\n",
       "    .dataframe thead th {\n",
       "        text-align: right;\n",
       "    }\n",
       "</style>\n",
       "<table border=\"1\" class=\"dataframe\">\n",
       "  <thead>\n",
       "    <tr style=\"text-align: right;\">\n",
       "      <th></th>\n",
       "      <th>cnt</th>\n",
       "      <th>%</th>\n",
       "    </tr>\n",
       "  </thead>\n",
       "  <tbody>\n",
       "    <tr>\n",
       "      <th>足球</th>\n",
       "      <td>2123</td>\n",
       "      <td>0.545198</td>\n",
       "    </tr>\n",
       "    <tr>\n",
       "      <th>梁振英</th>\n",
       "      <td>929</td>\n",
       "      <td>0.238572</td>\n",
       "    </tr>\n",
       "    <tr>\n",
       "      <th>美國大選</th>\n",
       "      <td>842</td>\n",
       "      <td>0.216230</td>\n",
       "    </tr>\n",
       "  </tbody>\n",
       "</table>\n",
       "</div>"
      ],
      "text/plain": [
       "       cnt         %\n",
       "足球    2123  0.545198\n",
       "梁振英    929  0.238572\n",
       "美國大選   842  0.216230"
      ]
     },
     "execution_count": 120,
     "metadata": {},
     "output_type": "execute_result"
    }
   ],
   "source": [
    "pd.DataFrame({'cnt':data_train.tags.value_counts(),'%':data_train.tags.value_counts()/data_train.tags.count()})"
   ]
  },
  {
   "cell_type": "code",
   "execution_count": 121,
   "metadata": {},
   "outputs": [],
   "source": [
    "#clean html tags\n",
    "def remove_html_tags(text):\n",
    "    import re\n",
    "    clean = re.compile('<.*?>')\n",
    "    return re.sub(clean, '', text)\n",
    "\n",
    "data_train['text_clean'] = data_train['text'].apply(remove_html_tags)\n",
    "data_test['text_clean'] = data_test['text'].apply(remove_html_tags)\n",
    "data_train['log_len'] = data_train.text.apply(len).apply(math.log)\n",
    "data_train['log_len_clean'] = data_train.text_clean.apply(len).apply(math.log)\n",
    "data_test['log_len'] = data_test.text.apply(len).apply(math.log)\n",
    "data_test['log_len_clean'] = data_test.text_clean.apply(len).apply(math.log)"
   ]
  },
  {
   "cell_type": "code",
   "execution_count": 122,
   "metadata": {},
   "outputs": [
    {
     "data": {
      "text/plain": [
       "<matplotlib.legend.Legend at 0x11deb7278>"
      ]
     },
     "execution_count": 122,
     "metadata": {},
     "output_type": "execute_result"
    },
    {
     "data": {
      "text/plain": [
       "<Figure size 28800x9600 with 0 Axes>"
      ]
     },
     "metadata": {},
     "output_type": "display_data"
    },
    {
     "data": {
      "text/plain": [
       "<Figure size 432x288 with 0 Axes>"
      ]
     },
     "metadata": {},
     "output_type": "display_data"
    },
    {
     "data": {
      "image/png": "[encoded data removed]",
      "text/plain": [
       "<Figure size 432x288 with 1 Axes>"
      ]
     },
     "metadata": {},
     "output_type": "display_data"
    }
   ],
   "source": [
    "fig = plt.figure(figsize=(18,6), dpi=1600) \n",
    "alpha=alpha_scatterplot = 0.2 \n",
    "alpha_bar_chart = 0.55\n",
    "#prop = matplotlib.font_manager.FontProperties(fname=\"SimHei.ttf\")\n",
    "#plt.text(0.5, 0.5, s='测试', fontproperties=prop)\n",
    "#plt.show()\n",
    "plt.figure(figsize=(6,4))\n",
    "fig, ax = plt.subplots()\n",
    "data_train.text_clean.apply(len).apply(math.log)[data_train.tags == '足球'].plot(kind='kde')\n",
    "data_train.text_clean.apply(len).apply(math.log)[data_train.tags == '梁振英'].plot(kind='kde')\n",
    "data_train.text_clean.apply(len).apply(math.log)[data_train.tags == '美國大選'].plot(kind='kde')\n",
    "# plots an axis lable\n",
    "plt.xlabel(\"Log(Length of Cleaned Text )\")\n",
    "plt.title(\"Text Length Distribution per Tags\")\n",
    "# sets our legend for our graph.\n",
    "plt.legend(('足球', '梁振英','美國大選'),loc='best',prop=prop)"
   ]
  },
  {
   "cell_type": "code",
   "execution_count": 123,
   "metadata": {},
   "outputs": [
    {
     "data": {
      "text/plain": [
       "<matplotlib.axes._subplots.AxesSubplot at 0x11c3fdcc0>"
      ]
     },
     "execution_count": 123,
     "metadata": {},
     "output_type": "execute_result"
    },
    {
     "data": {
      "image/png": "[encoded data removed]",
      "text/plain": [
       "<Figure size 432x288 with 1 Axes>"
      ]
     },
     "metadata": {},
     "output_type": "display_data"
    },
    {
     "data": {
      "image/png": "[encoded data removed]",
      "text/plain": [
       "<Figure size 432x288 with 1 Axes>"
      ]
     },
     "metadata": {},
     "output_type": "display_data"
    }
   ],
   "source": [
    "data_train['log_len'] = data_train.text.apply(len).apply(math.log)\n",
    "data_train['log_len_clean'] = data_train.text_clean.apply(len).apply(math.log)\n",
    "data_train.boxplot('log_len',by='tags_en')\n",
    "data_train.boxplot('log_len_clean',by='tags_en')"
   ]
  },
  {
   "cell_type": "code",
   "execution_count": 124,
   "metadata": {},
   "outputs": [
    {
     "name": "stdout",
     "output_type": "stream",
     "text": [
      "Total 748 features found. (Ordered by idf in ascending order)\n",
      "['涉及', '放棄', '通過', '青年', '發揮', '曾經', '壓力', '爭議', '清楚', '逼', '鄭月', '娥', '曾俊華', '二人', '可惜', '國際', '直言', '票', '錢', '資格', '遠', '可見', '超過', '按', '形勢', '北京', '法律', '巴塞', '熱刺', '建功', '拍', '新聞', '擔心', '不可', '傳中', '做法', '身上', '控球', '兩名', '德國', '皮球', '態度', '立場', '早已', '白宮', '實力', '最少', '如今', '開賽', '挑戰', '圍賽', '追', '26', '電視', '司長', '奧', '射手', '鬆', '裏', '突然', '施政', '林', '加入', '能否', '組賽', '上演', '嚴重', '最高', '2008', '這位', '季', '把握', '億', '一位', '意見', '替', '點', '反對', '議員', '可是', '離開', '領隊', '狀態', '透過', '證明', '28', '受傷', '進', '發表', '寫', '制度', '2013', '2016', '議題', '打破', '不滿', '選情', '直播', '周日', '一度', '言論', '擁有', '失去', '全國', '相當', '民調', '意大利', '一般', '解決', '成立', '愈', '真正', '第二', '晉級', '容易', '傳統', '睇', '問到', '進入', '出任', '皆', '買', '利益', '參選人', '值得', '更是', '帶來', '攻擊', '對手', '兩人', '重新', '關', '相反', '當地', '.', '生活', '提到', '員', '擔任', '太', '紐約', '成績', '連續', '唯一', '有意', '全球', 'twitter', '勝出', '笑', '選戰', '梁', '國家隊', '相關', '總統候', '處', '一步', '不要', '道', '昨日', '巴西', '方法', '22', '看到', '少', '助攻', '正選', '英格蘭', '媒體', '嗎', '會議', '連任', '西甲', '無法', '職業', '之前', '完場', '候選人', '2015', '會否', '法國', '25', '港元', '那', '關注', '意外', '聽', '安排', '球季', '能夠', '延伸', '21', '地方', '投', '不斷', '24', '討論', '拒絕', '港', '生涯', '正是', '真的', '報告', '表明', '波', '年前', '出色', '隊長', '時候', 'vs', '小', '而言', '皇家', '輕', '只得', '準備', '李斯特', '早', '城', '改善', '完成', '似乎', '未必', '奧巴馬', '一球', '逾', '努力', '建制', '外界', '肯定', '自然', '23', '今天', '上半', '就算', '增加', '一切', '度', '米', '落', '作出', '透露', '今', '碼', '球場', 'c', '日前', '這種', '17', '直接', '官', '下半場', '低', '一眾', '19', '經驗', '近日', '面對', '無論', '間', '競選', '了解', '今晨', '正式', '應該', '如此', '反', '市民', '一年', '還有', '歷史', '關鍵', '例如', '當年', '綜合', '解釋', '提供', '中央', '領先', '至今', '成', '英國', '今場', '難以', '閱讀', '合作', '公布', '計劃', '紀錄', '公司', '反而', '13', '選民', '根據', '發生', '擊敗', '車路士', '自由', '一名', '之一', '爭取', '位置', '研究', '保持', '路', '反映', '上任', '必須', '進行', '門將', '仗', '支持者', '進攻', '巴塞隆', '據', '訪問', '參選', '只能', '中國', '對方', '全場', '期間', '消息', '應', '質疑', '副', '活動', '呢', '並非', '組織', '歐國', '以來', '14', '贏得', '加盟', '帶', '一些', '優勢', '西班牙', '憑', '完全', '入', '十分', '足', '而是', '請', '利物浦', '非', '多年', '公開', '德里', '近年', '感到', '-', '禁區', '這樣', '隊友', '球星', '現在', '防守', '受', ',', '分析', '2014', '美國大選', '發現', '部分', '榜首', '大選', '第一', '選', '2012', '位', '正', '明顯', '將', '攻入', '此', '處理', '歐洲', '製', '所以', '還是', '腳', '考慮', '曼城', '得到', '18', '陳', '阿仙奴', '主要', '最佳', '傳媒', '佔', '今屆', '只要', '目標', '均', '誰', '盡', '難', '強', '不足', '黃', '經濟', '仍然', '者', '像', '當選', '獲得', '戰', '曼聯', '最大', '歐聯', '冠', '用', '讚', '賽', '作為', '改變', '調查', '分別', '形容', '選擇', '而且', '再次', '兩個', '舉行', '特別', '屆', '賽事', '投票', '一定', '什麼', '獲', '/', '能力', '並', '15', '非常', '名', '原因', '這些', '兩', '這是', '大家', '派', '未來', '該', '人士', '羅', '同樣', '目前', '效力', '提出', '選人', '強調', '現時', '多次', '有關', '唔', '教練', '射入', '20', '隊', '一樣', '方面', '事實', '決賽', '當中', '一場', '當然', '這名', '所有', '復', '令人', '萬', '然而', '首次', '顯示', '今仗', '將會', '起', '政策', '近', '30', '很多', '！', '跟', '記者', '如', '另外', '16', '．', '走', '任何', '先', '不同', '打', '行政', '上陣', '有人', '成功', '其實', '球會', '開始', '出席', '批評', '同時', '所', '立法', '情況', '總', '其中', '見', '一次', '回應', '主席', '去年', '除了', '宣布', '即', '因', '今年', '今次', '今日', '過去', '前鋒', '即使', '01', '社會', '有片', '已經', '不能', '主帥', '看', '達', '場', '報道', '共和', '國家', '外', '工作', '發展', '作客', '指出', '高', '早前', '如何', '事件', '知道', '甚至', '主場', '是否', '繼續', '出現', '需要', '手', '要求', '若', '表現', '想', '希拉里', '另', '以及', '接受', '當時', '其他', '至於', '自', '決定', '能', '民主', '影響', '話', '結果', '只有', '就是', '最終', '因此', '選舉', '她', '政治', '把', '新', '11', '未能', '比賽', '總統', '事', '中場', '分', '如果', '稱', '重要', '代表', '取得', '今季', '加上', '這', '9', '未有', '世界', '係', '約', '球', '地', '這個', '一直', '0', '︰', '你', '做', '只是', '聯賽', '特朗普', '一', '黨', '英超', '不會', '無', '次', '球迷', '出', '讓', '相信', '較', '時間', '比', '政府', '拿', '可', '特首', '包括', '7', '入球', '之', '足球', '不是', '因為', '未', '12', '分鐘', '踢', '軍', '內', '不少', '第', '10', '美國', '才', '梁振英', '8', '沒有', '只', '大', '6', '馬', '好', '球員', '很', '其', '雖然', '至', '可能', 'nbsp', '支持', '長', '從', '我們', '機會', '歲', '希望', '成為', '令', '去', '問題', '沒', '仍', '便', '球隊', '他們', '可以', '向', '得', '下', '》', '《', '或', '5', '盃', '再', '指', '自己', '一個', '認為', '最', '卻', '香港', '曾', '；', '前', '也', '&', '2', '？', '多', ';', '等', '表示', '個', '不過', '1', '4', '說', '就', '我', '日', '已', '來', '要', '到', '而', '由', '3', '時', '中', '又', '及', '人', '年', '月', '更', '會', '以', '了', '都', '不', '和', '被', '上', '亦', '與', '：', '但', '他', '為', '於', '對']\n"
     ]
    }
   ],
   "source": [
    "data_train['text_clean'] = data_train['text_clean'].apply(lambda x: \" \".join(jieba.cut(x)))\n",
    "data_test['text_clean'] = data_test['text_clean'].apply(lambda x: \" \".join(jieba.cut(x)))\n",
    "\"\"\"\n",
    "#CountVectorizer\n",
    "vectorizer_cnt = CountVectorizer(tokenizer=lambda x: x.split(), stop_words='english', min_df=0.05, max_df=0.8)\n",
    "X = vectorizer_cnt.fit_transform(data_train.text_clean)\n",
    "vectorizer_cnt.get_feature_names()\n",
    "\"\"\"\n",
    "#TfidfVectorizer\n",
    "vectorizer_tfidf = TfidfVectorizer(tokenizer=lambda x: x.split(), min_df=0.05, max_df=0.7)\n",
    "tfidf = vectorizer_tfidf.fit_transform(data_train.text_clean)\n",
    "indices_tfidf = np.argsort(vectorizer_tfidf.idf_)[::-1]\n",
    "features_tfidf = vectorizer_tfidf.get_feature_names()\n",
    "top_features_tfidf = [features_tfidf[i] for i in indices_tfidf]\n",
    "print('Total {0} features found. (Ordered by idf in descending order)'.format(len(top_features_tfidf)))\n",
    "print(top_features_tfidf)"
   ]
  },
  {
   "cell_type": "code",
   "execution_count": 46,
   "metadata": {},
   "outputs": [
    {
     "name": "stdout",
     "output_type": "stream",
     "text": [
      "Total 475 features after cleaning. (Ordered by idf in ascending order)\n",
      "['涉及', '放棄', '通過', '青年', '發揮', '曾經', '壓力', '爭議', '清楚', '鄭月', '曾俊華', '二人', '可惜', '國際', '直言', '資格', '可見', '超過', '形勢', '北京', '法律', '巴塞', '熱刺', '建功', '新聞', '擔心', '不可', '傳中', '做法', '身上', '控球', '兩名', '德國', '皮球', '態度', '立場', '早已', '白宮', '實力', '最少', '如今', '開賽', '挑戰', '圍賽', '電視', '司長', '射手', '突然', '施政', '加入', '能否', '組賽', '上演', '嚴重', '最高', '這位', '把握', '一位', '意見', '反對', '議員', '可是', '離開', '領隊', '狀態', '透過', '證明', '受傷', '發表', '制度', '議題', '打破', '不滿', '選情', '直播', '周日', '一度', '言論', '擁有', '失去', '全國', '相當', '民調', '意大利', '一般', '解決', '成立', '真正', '第二', '晉級', '容易', '傳統', '問到', '進入', '出任', '利益', '參選人', '值得', '更是', '帶來', '攻擊', '對手', '兩人', '重新', '相反', '當地', '生活', '提到', '擔任', '紐約', '成績', '連續', '唯一', '有意', '全球', 'twitter', '勝出', '選戰', '國家隊', '相關', '總統候', '一步', '不要', '昨日', '巴西', '方法', '看到', '助攻', '正選', '英格蘭', '媒體', '會議', '連任', '西甲', '無法', '職業', '之前', '完場', '候選人', '會否', '法國', '港元', '關注', '意外', '安排', '球季', '能夠', '延伸', '地方', '不斷', '討論', '拒絕', '生涯', '正是', '真的', '報告', '表明', '年前', '出色', '隊長', '時候', 'vs', '而言', '皇家', '只得', '準備', '李斯特', '改善', '完成', '似乎', '未必', '奧巴馬', '一球', '努力', '建制', '外界', '肯定', '自然', '今天', '上半', '就算', '增加', '一切', '作出', '透露', '球場', '日前', '這種', '直接', '下半場', '一眾', '經驗', '近日', '面對', '無論', '競選', '了解', '今晨', '正式', '應該', '如此', '市民', '一年', '還有', '歷史', '關鍵', '例如', '當年', '綜合', '解釋', '提供', '中央', '領先', '至今', '英國', '今場', '難以', '閱讀', '合作', '公布', '計劃', '紀錄', '公司', '反而', '選民', '根據', '發生', '擊敗', '車路士', '自由', '一名', '之一', '爭取', '位置', '研究', '保持', '反映', '上任', '必須', '進行', '門將', '支持者', '進攻', '巴塞隆', '訪問', '參選', '只能', '中國', '對方', '全場', '期間', '消息', '質疑', '活動', '並非', '組織', '歐國', '以來', '贏得', '加盟', '一些', '優勢', '西班牙', '完全', '十分', '而是', '利物浦', '多年', '公開', '德里', '近年', '感到', '禁區', '這樣', '隊友', '球星', '現在', '防守', '分析', '美國大選', '發現', '部分', '榜首', '大選', '第一', '明顯', '攻入', '處理', '歐洲', '所以', '還是', '考慮', '曼城', '得到', '阿仙奴', '主要', '最佳', '傳媒', '今屆', '只要', '目標', '不足', '經濟', '仍然', '當選', '獲得', '曼聯', '最大', '歐聯', '作為', '改變', '調查', '分別', '形容', '選擇', '而且', '再次', '兩個', '舉行', '特別', '賽事', '投票', '一定', '什麼', '能力', '非常', '原因', '這些', '這是', '大家', '未來', '人士', '同樣', '目前', '效力', '提出', '選人', '強調', '現時', '多次', '有關', '教練', '射入', '一樣', '方面', '事實', '決賽', '當中', '一場', '當然', '這名', '所有', '令人', '然而', '首次', '顯示', '今仗', '將會', '政策', '很多', '記者', '另外', '任何', '不同', '行政', '上陣', '有人', '成功', '其實', '球會', '開始', '出席', '批評', '同時', '立法', '情況', '其中', '一次', '回應', '主席', '去年', '除了', '宣布', '今年', '今次', '今日', '過去', '前鋒', '即使', '社會', '有片', '已經', '不能', '主帥', '報道', '共和', '國家', '工作', '發展', '作客', '指出', '早前', '如何', '事件', '知道', '甚至', '主場', '是否', '繼續', '出現', '需要', '要求', '表現', '希拉里', '以及', '接受', '當時', '其他', '至於', '決定', '民主', '影響', '結果', '只有', '就是', '最終', '因此', '選舉', '政治', '未能', '比賽', '總統', '中場', '如果', '重要', '代表', '取得', '今季', '加上', '未有', '世界', '這個', '一直', '只是', '聯賽', '特朗普', '英超', '球迷', '相信', '時間', '政府', '特首', '包括', '入球', '足球', '不是', '因為', '分鐘', '不少', '美國', '梁振英', '球員', '支持', '我們', '機會', '希望', '成為', '問題', '球隊', '他們', '自己', '一個', '認為', '香港', '表示']\n"
     ]
    }
   ],
   "source": [
    "stop_words = ['nbsp','雖然','可能','可以','不過','不會','沒有']\n",
    "top_features_tfidf = [x for x in top_features_tfidf if len(x) > 1 and not re.match('^[0-9\\.%, ]*$',x) and x not in stop_words]\n",
    "print('Total {0} features after cleaning. (Ordered by idf in descending order)'.format(len(top_features_tfidf)))\n",
    "print(top_features_tfidf)"
   ]
  },
  {
   "cell_type": "code",
   "execution_count": 97,
   "metadata": {},
   "outputs": [],
   "source": [
    "vocab_tfidf = dict(zip(top_features_tfidf,range(len(top_features_tfidf))))"
   ]
  },
  {
   "cell_type": "markdown",
   "metadata": {},
   "source": [
    "## Build a Baseline Model"
   ]
  },
  {
   "cell_type": "code",
   "execution_count": 158,
   "metadata": {},
   "outputs": [
    {
     "name": "stdout",
     "output_type": "stream",
     "text": [
      "Top 20 most frequent words of 足球\n",
      "\n",
      "['足球', '球隊', '分鐘', '英超', '球員', '球迷', '入球', '聯賽', '今季', '中場', '阿仙奴', '曼城', '比賽', '利物浦', '曼聯', '作客', '決賽', '球會', '主場', '李斯特']\n",
      "\n",
      "Top 20 most frequent words of 梁振英\n",
      "\n",
      "['特首', '行政', '中央', '曾俊華', '施政', '連任', '市民', 'ugl', '鄭月', '司長', '北京', '行李', '會議', '委員會', '房屋', '機場', '基本法', '民主派', '港人', '財政司']\n",
      "\n",
      "Top 20 most frequent words of 美國大選\n",
      "\n",
      "['特朗普', '希拉里', '美國', '總統', '共和', '奧巴馬', '桑德斯', '辯論', '選民', '大選', '女性', '移民', '民調', '美國大選', '美元', '紐約', '總統候', '初選', '媒體', '白人']\n",
      "\n"
     ]
    }
   ],
   "source": [
    "#CountVectorizer\n",
    "\n",
    "vectorizer_cnt = {}\n",
    "cnt = {}\n",
    "top_features_cnt = {}\n",
    "top_features_unique_cnt = {}\n",
    "\n",
    "for i in ['足球', '梁振英','美國大選']:\n",
    "    vectorizer_cnt[i] = CountVectorizer(tokenizer=lambda x: x.split(), min_df=0.05, max_df=0.9)\n",
    "    cnt[i] = vectorizer_cnt[i].fit_transform(data_train.text_clean[data_train.tags==i])\n",
    "\n",
    "    indices_cnt = np.argsort(np.squeeze(np.asarray(cnt[i].sum(axis=0))))[::-1]\n",
    "    features_cnt = vectorizer_cnt[i].get_feature_names()\n",
    "    top_features_cnt[i] = [features_cnt[j] for j in indices_cnt]\n",
    "    top_features_cnt[i] = [x for x in top_features_cnt[i] if len(x) > 1 and not re.match('^[0-9\\.%, ]*$',x) and x not in stop_words]\n",
    "    \n",
    "top_cnt = 20\n",
    "top_features_unique_cnt['足球'] = [x for x in top_features_cnt['足球'] if x not in top_features_cnt['梁振英'] and x not in top_features_cnt['美國大選']]\n",
    "top_features_unique_cnt['梁振英'] = [x for x in top_features_cnt['梁振英'] if x not in top_features_cnt['足球'] and x not in top_features_cnt['美國大選']]\n",
    "top_features_unique_cnt['美國大選'] = [x for x in top_features_cnt['美國大選'] if x not in top_features_cnt['梁振英'] and x not in top_features_cnt['足球']]\n",
    "\n",
    "for i in ['足球', '梁振英','美國大選']:\n",
    "    print('Top {0} most frequent words of {1}'.format(top_cnt,i))\n",
    "    print()\n",
    "    print(top_features_unique_cnt[i][0:top_cnt])\n",
    "    print()"
   ]
  },
  {
   "cell_type": "code",
   "execution_count": 243,
   "metadata": {},
   "outputs": [
    {
     "name": "stdout",
     "output_type": "stream",
     "text": [
      "Multiclass error rate of baseline model = 0.017719568567026195\n"
     ]
    }
   ],
   "source": [
    "top_features_unique_cnt['ALL'] = top_features_unique_cnt['足球'][0:top_cnt] + top_features_unique_cnt['梁振英'][0:top_cnt] + top_features_unique_cnt['美國大選'][0:top_cnt]\n",
    "vocab_cnt = dict(zip(top_features_unique_cnt['ALL'],range(len(top_features_unique_cnt['ALL']))))\n",
    "\n",
    "vectorizer_cnt['ALL'] = CountVectorizer(tokenizer=lambda x: x.split(), vocabulary=vocab_cnt)\n",
    "cnt['ALL'] = vectorizer_cnt['ALL'].fit_transform(data_train.text_clean).todense()\n",
    "\n",
    "total_cnt = {}\n",
    "total_cnt['足球'] = cnt['ALL'][:,0:top_cnt].sum(axis=1)\n",
    "total_cnt['梁振英'] = cnt['ALL'][:,top_cnt:2*top_cnt].sum(axis=1)\n",
    "total_cnt['美國大選'] = cnt['ALL'][:,2*top_cnt:3*top_cnt].sum(axis=1)\n",
    "\n",
    "preds_baseline = []\n",
    "error_baseline = []\n",
    "error = 0\n",
    "for i in range(len(data_train.index)):\n",
    "    if total_cnt['足球'][i,0] >= total_cnt['梁振英'][i,0] and total_cnt['足球'][i,0] >= total_cnt['美國大選'][i,0]:\n",
    "        preds_baseline.append('足球')\n",
    "    elif total_cnt['梁振英'][i,0] >= total_cnt['足球'][i,0] and total_cnt['梁振英'][i,0] >= total_cnt['美國大選'][i,0]:\n",
    "        preds_baseline.append('梁振英')\n",
    "    elif total_cnt['美國大選'][i,0] >= total_cnt['足球'][i,0] and total_cnt['美國大選'][i,0] >= total_cnt['梁振英'][i,0]:\n",
    "        preds_baseline.append('美國大選')\n",
    "    if preds_baseline[i] != data_train.tags.values[i]:\n",
    "        error_baseline.append(int(1))\n",
    "        error = error + 1\n",
    "    else:\n",
    "        error_baseline.append(int(0))\n",
    "        \n",
    "#calculate multiplication error of baseline model\n",
    "print('Multiclass error rate of baseline model = {0}'.format(error/len(error_baseline)))\n"
   ]
  },
  {
   "cell_type": "markdown",
   "metadata": {},
   "source": [
    "## Build a ML Model"
   ]
  },
  {
   "cell_type": "code",
   "execution_count": 244,
   "metadata": {},
   "outputs": [
    {
     "name": "stdout",
     "output_type": "stream",
     "text": [
      "[0]\ttrain-merror:0.0136971+0.00455859\ttest-merror:0.0218259+0.00447502\n",
      "[20]\ttrain-merror:0.0098728+0.000640235\ttest-merror:0.0179784+0.00514285\n",
      "[40]\ttrain-merror:0.0075329+0.000513579\ttest-merror:0.0159232+0.00456822\n",
      "[60]\ttrain-merror:0.0052217+0.000314174\ttest-merror:0.014382+0.00433037\n",
      "[80]\ttrain-merror:0.0040232+0.000392487\ttest-merror:0.0141249+0.00463192\n",
      "[100]\ttrain-merror:0.0036522+0.000307549\ttest-merror:0.0130973+0.00371293\n",
      "[120]\ttrain-merror:0.002996+0.000343808\ttest-merror:0.0125838+0.0033401\n",
      "[140]\ttrain-merror:0.0017121+0.000255359\ttest-merror:0.0112998+0.00366994\n",
      "[160]\ttrain-merror:0.0010559+0.000222874\ttest-merror:0.0102733+0.0028197\n",
      "[180]\ttrain-merror:0.0006279+0.0001712\ttest-merror:0.0095034+0.00326517\n",
      "[200]\ttrain-merror:0.000428+0.000143\ttest-merror:0.0087329+0.00348903\n",
      "[220]\ttrain-merror:0.0002565+8.55e-05\ttest-merror:0.0082189+0.00299911\n",
      "[240]\ttrain-merror:0.0002565+8.55e-05\ttest-merror:0.0079618+0.00353465\n",
      "[260]\ttrain-merror:0.0001995+0.000130603\ttest-merror:0.0084759+0.00382303\n",
      "Based on cv result, train a model with num_boost_round = 227\n",
      "[0]\ttrain-merror:0.01849\n",
      "[20]\ttrain-merror:0.009245\n",
      "[40]\ttrain-merror:0.007447\n",
      "[60]\ttrain-merror:0.00565\n",
      "[80]\ttrain-merror:0.003852\n",
      "[100]\ttrain-merror:0.003595\n",
      "[120]\ttrain-merror:0.003082\n",
      "[140]\ttrain-merror:0.001541\n",
      "[160]\ttrain-merror:0.001284\n",
      "[180]\ttrain-merror:0.00077\n",
      "[200]\ttrain-merror:0.000514\n",
      "[220]\ttrain-merror:0.000257\n",
      "[226]\ttrain-merror:0.000257\n"
     ]
    },
    {
     "name": "stderr",
     "output_type": "stream",
     "text": [
      "/Users/Shared/anaconda/anaconda3/envs/hk01_offsitetest_py37/lib/python3.7/site-packages/sklearn/preprocessing/label.py:151: DeprecationWarning: The truth value of an empty array is ambiguous. Returning False, but in future this will result in an error. Use `array.size > 0` to check that an array is not empty.\n",
      "  if diff:\n"
     ]
    }
   ],
   "source": [
    "le = LabelEncoder()\n",
    "train_Y = le.fit_transform(data_train['tags'].values)\n",
    "\n",
    "#TfidfVectorizer as features\n",
    "vectorizer_tfidf = TfidfVectorizer(tokenizer=lambda x: x.split(), vocabulary=vocab_tfidf)\n",
    "train_X = vectorizer_tfidf.fit_transform(data_train.text_clean)\n",
    "test_X = vectorizer_tfidf.transform(data_test.text_clean)\n",
    "#features_tfidf = vectorizer_tfidf.get_feature_names()\n",
    "#unique, counts = np.unique(test_tfidf.getnnz(1), return_counts=True)\n",
    "#print(dict(zip(unique, counts)))\n",
    "\n",
    "\n",
    "params = {\n",
    "        'eta': 0.05,\n",
    "        'max_depth': 5,\n",
    "        'subsample': 0.9,\n",
    "        'objective': 'multi:softmax',\n",
    "        'num_class': 3,\n",
    "        #'silent': 0,\n",
    "        'colsample_bytree': 0.9\n",
    "}\n",
    "num_boost_round = 500\n",
    "early_stopping_rounds = 50\n",
    "\n",
    "d_train = xgb.DMatrix(train_X, train_Y)\n",
    "d_test = xgb.DMatrix(test_X)\n",
    "cv_model = xgb.cv(params = params, dtrain = d_train, num_boost_round = num_boost_round, early_stopping_rounds = early_stopping_rounds, \n",
    "               nfold=10, verbose_eval = 20, seed=1234)\n",
    "\n",
    "num_boost_round = cv_model['test-merror-mean'].idxmin()\n",
    "print('Based on cv result, train a model with num_boost_round = {}'.format(num_boost_round))\n",
    "final_model = xgb.train(params = params, dtrain = d_train, num_boost_round = num_boost_round,\n",
    "               verbose_eval = 20, evals = [(d_train,'train')])\n",
    "\n",
    "xgb_pred = list(final_model.predict(d_test))\n",
    "xgb_pred = [int(x) for x in xgb_pred]\n",
    "output = pd.DataFrame({'id': data_test.index, 'target': le.inverse_transform(xgb_pred), 'text': data_test.text})\n",
    "output.to_csv(\"{}-foldCV_sub.csv\".format(K), index=False)\n"
   ]
  }
 ],
 "metadata": {
  "kernelspec": {
   "display_name": "Python 3",
   "language": "python",
   "name": "python3"
  },
  "language_info": {
   "codemirror_mode": {
    "name": "ipython",
    "version": 3
   },
   "file_extension": ".py",
   "mimetype": "text/x-python",
   "name": "python",
   "nbconvert_exporter": "python",
   "pygments_lexer": "ipython3",
   "version": "3.7.0"
  }
 },
 "nbformat": 4,
 "nbformat_minor": 2
}
